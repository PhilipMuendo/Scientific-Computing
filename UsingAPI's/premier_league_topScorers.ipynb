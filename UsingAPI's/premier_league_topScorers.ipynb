{
 "cells": [
  {
   "cell_type": "code",
   "execution_count": 1,
   "metadata": {},
   "outputs": [
    {
     "name": "stdout",
     "output_type": "stream",
     "text": [
      "          Player             Team  Goals\n",
      "0     E. Haaland  Manchester City     27\n",
      "1      C. Palmer          Chelsea     22\n",
      "2        A. Isak        Newcastle     21\n",
      "3     O. Watkins      Aston Villa     19\n",
      "4       P. Foden  Manchester City     19\n",
      "5     D. Solanke      Bournemouth     19\n",
      "6  Mohamed Salah        Liverpool     18\n",
      "7  Son Heung-Min        Tottenham     17\n",
      "8       J. Bowen         West Ham     16\n",
      "9      J. Mateta   Crystal Palace     16\n"
     ]
    }
   ],
   "source": [
    "import requests\n",
    "import pandas as pd\n",
    "\n",
    "# API Endpoint for Premier League Top Scorers\n",
    "url = \"https://v3.football.api-sports.io/players/topscorers?league=39&season=2023\"\n",
    "\n",
    "# API Headers\n",
    "headers = {\n",
    "    \"x-apisports-key\": \"db5f4b9ffe84afe4b26cf88a3df4d651\"\n",
    "}\n",
    "\n",
    "# Make API Request\n",
    "response = requests.get(url, headers=headers)\n",
    "\n",
    "if response.status_code == 200:\n",
    "    data = response.json()\n",
    "    \n",
    "    # Extract top scorers\n",
    "    scorers = data.get(\"response\", [])\n",
    "    \n",
    "    # Convert data to DataFrame\n",
    "    top_scorers = []\n",
    "    for player in scorers:\n",
    "        name = player[\"player\"][\"name\"]\n",
    "        team = player[\"statistics\"][0][\"team\"][\"name\"]\n",
    "        goals = player[\"statistics\"][0][\"goals\"][\"total\"]\n",
    "        \n",
    "        top_scorers.append([name, team, goals])\n",
    "\n",
    "    df = pd.DataFrame(top_scorers, columns=[\"Player\", \"Team\", \"Goals\"])\n",
    "    \n",
    "    # Display top 10 scorers\n",
    "    print(df.head(10))\n",
    "\n",
    "else:\n",
    "    print(f\"Error {response.status_code}: {response.text}\")\n"
   ]
  }
 ],
 "metadata": {
  "kernelspec": {
   "display_name": "Python 3",
   "language": "python",
   "name": "python3"
  },
  "language_info": {
   "codemirror_mode": {
    "name": "ipython",
    "version": 3
   },
   "file_extension": ".py",
   "mimetype": "text/x-python",
   "name": "python",
   "nbconvert_exporter": "python",
   "pygments_lexer": "ipython3",
   "version": "3.13.2"
  }
 },
 "nbformat": 4,
 "nbformat_minor": 2
}
